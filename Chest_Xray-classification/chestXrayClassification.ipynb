{
 "cells": [
  {
   "cell_type": "code",
   "execution_count": 3,
   "id": "8aa0258e-3ee8-49cf-af47-9691308b55d5",
   "metadata": {},
   "outputs": [],
   "source": [
    "# Uncomment the lines below and run the installations\n",
    "#!pip install torch\n",
    "#!pip install torchvision\n",
    "#!pip install opencv-python\n",
    "#!pip install gradio"
   ]
  },
  {
   "cell_type": "code",
   "execution_count": 6,
   "id": "28851f5e-a9d1-476a-b772-b285589c7e28",
   "metadata": {},
   "outputs": [],
   "source": [
    "# Import libs\n",
    "import torch\n",
    "import torch.nn as nn\n",
    "import torch.optim as optim\n",
    "from torchvision import datasets, transforms, models\n",
    "import os"
   ]
  },
  {
   "cell_type": "code",
   "execution_count": 10,
   "id": "7da7cb52-1bc0-4092-8292-99f86d311402",
   "metadata": {},
   "outputs": [
    {
     "ename": "SyntaxError",
     "evalue": "(unicode error) 'unicodeescape' codec can't decode bytes in position 2-3: truncated \\UXXXXXXXX escape (4257882699.py, line 21)",
     "output_type": "error",
     "traceback": [
      "\u001b[1;36m  Cell \u001b[1;32mIn[10], line 21\u001b[1;36m\u001b[0m\n\u001b[1;33m    folder_path = 'C:\\Users\\Khomp\\Desktop\\Projetos SBC 2025\\ResNet18\\Health-projects\\Chest_Xray-classification\\checandoMEDIAeSD'\u001b[0m\n\u001b[1;37m                                                                                                                                ^\u001b[0m\n\u001b[1;31mSyntaxError\u001b[0m\u001b[1;31m:\u001b[0m (unicode error) 'unicodeescape' codec can't decode bytes in position 2-3: truncated \\UXXXXXXXX escape\n"
     ]
    }
   ],
   "source": [
    "# Calculating the mean and standard deviation of the data set\n",
    "import os\n",
    "import numpy as np\n",
    "import cv2\n",
    "\n",
    "def load_images_from_folder(folder, target_size=(256, 256)):\n",
    "    images = []\n",
    "    for filename in os.listdir(folder):\n",
    "        img = cv2.imread(os.path.join(folder, filename), cv2.IMREAD_GRAYSCALE)\n",
    "        if img is not None:\n",
    "            img = cv2.resize(img, target_size)\n",
    "            images.append(img)\n",
    "    return images\n",
    "\n",
    "def compute_mean_std(images):\n",
    "    stacked_images = np.stack(images, axis=0)\n",
    "    mean = np.mean(stacked_images)\n",
    "    std = np.std(stacked_images)\n",
    "    return mean, std\n",
    "\n",
    "folder_path = 'C:\\Users\\Khomp\\Desktop\\Projetos SBC 2025\\ResNet18\\Health-projects\\Chest_Xray-classification\\checandoMEDIAeSD'\n",
    "images = load_images_from_folder(folder_path)\n",
    "mean, std = compute_mean_std(images)\n",
    "\n",
    "print(f'Mean: {mean}')\n",
    "print(f'Standard Deviation: {std}')\n"
   ]
  },
  {
   "cell_type": "code",
   "execution_count": 8,
   "id": "a8473b06-9084-4178-bbc3-17e0ffc167f2",
   "metadata": {},
   "outputs": [],
   "source": [
    "# Defining data transformations for grayscale images with the computed mean and std\n",
    "data_transforms = {\n",
    "    'train': transforms.Compose([\n",
    "        transforms.Grayscale(num_output_channels=1),  # Convert to grayscale\n",
    "        transforms.RandomResizedCrop(224),\n",
    "        transforms.RandomHorizontalFlip(),\n",
    "        transforms.ToTensor(),\n",
    "        transforms.Normalize([112.3006 / 255], [85.9841 / 255])  # Normalize using the computed mean and std\n",
    "    ]),\n",
    "    'val': transforms.Compose([\n",
    "        transforms.Grayscale(num_output_channels=1),  # Convert to grayscale\n",
    "        transforms.Resize(256),\n",
    "        transforms.CenterCrop(224),\n",
    "        transforms.ToTensor(),\n",
    "        transforms.Normalize([112.3006 / 255], [85.9841 / 255])  # Normalize using the computed mean and std\n",
    "    ]),\n",
    "}"
   ]
  },
  {
   "cell_type": "code",
   "execution_count": null,
   "id": "c784e3b9-6557-4bb6-aed5-bbeb2b358d6e",
   "metadata": {},
   "outputs": [],
   "source": []
  }
 ],
 "metadata": {
  "kernelspec": {
   "display_name": "Python 3 (ipykernel)",
   "language": "python",
   "name": "python3"
  },
  "language_info": {
   "codemirror_mode": {
    "name": "ipython",
    "version": 3
   },
   "file_extension": ".py",
   "mimetype": "text/x-python",
   "name": "python",
   "nbconvert_exporter": "python",
   "pygments_lexer": "ipython3",
   "version": "3.11.7"
  }
 },
 "nbformat": 4,
 "nbformat_minor": 5
}
