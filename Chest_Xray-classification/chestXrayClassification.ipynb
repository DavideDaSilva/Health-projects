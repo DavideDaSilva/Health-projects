{
 "cells": [
  {
   "cell_type": "code",
   "execution_count": 3,
   "id": "8aa0258e-3ee8-49cf-af47-9691308b55d5",
   "metadata": {},
   "outputs": [],
   "source": [
    "# Uncomment the lines below and run the installations\n",
    "#!pip install torch\n",
    "#!pip install torchvision\n",
    "#!pip install opencv-python\n",
    "#!pip install gradio"
   ]
  },
  {
   "cell_type": "code",
   "execution_count": 4,
   "id": "28851f5e-a9d1-476a-b772-b285589c7e28",
   "metadata": {},
   "outputs": [],
   "source": [
    "# Importa libs\n",
    "import torch\n",
    "import torch.nn as nn\n",
    "import torch.optim as optim\n",
    "from torchvision import datasets, transforms, models\n",
    "import os"
   ]
  },
  {
   "cell_type": "code",
   "execution_count": null,
   "id": "7da7cb52-1bc0-4092-8292-99f86d311402",
   "metadata": {},
   "outputs": [],
   "source": []
  }
 ],
 "metadata": {
  "kernelspec": {
   "display_name": "Python 3 (ipykernel)",
   "language": "python",
   "name": "python3"
  },
  "language_info": {
   "codemirror_mode": {
    "name": "ipython",
    "version": 3
   },
   "file_extension": ".py",
   "mimetype": "text/x-python",
   "name": "python",
   "nbconvert_exporter": "python",
   "pygments_lexer": "ipython3",
   "version": "3.11.7"
  }
 },
 "nbformat": 4,
 "nbformat_minor": 5
}
