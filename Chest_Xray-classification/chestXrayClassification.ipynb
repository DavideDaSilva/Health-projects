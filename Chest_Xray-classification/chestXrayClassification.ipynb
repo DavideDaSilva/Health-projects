{
 "cells": [
  {
   "cell_type": "code",
   "execution_count": 3,
   "id": "8aa0258e-3ee8-49cf-af47-9691308b55d5",
   "metadata": {},
   "outputs": [],
   "source": [
    "# Uncomment the lines below and run the installations\n",
    "#!pip install torch\n",
    "#!pip install torchvision\n",
    "#!pip install opencv-python\n",
    "#!pip install gradio"
   ]
  },
  {
   "cell_type": "code",
   "execution_count": 6,
   "id": "28851f5e-a9d1-476a-b772-b285589c7e28",
   "metadata": {},
   "outputs": [],
   "source": [
    "# Import libs\n",
    "import torch\n",
    "import torch.nn as nn\n",
    "import torch.optim as optim\n",
    "from torchvision import datasets, transforms, models\n",
    "import os"
   ]
  },
  {
   "cell_type": "code",
   "execution_count": 12,
   "id": "7da7cb52-1bc0-4092-8292-99f86d311402",
   "metadata": {},
   "outputs": [
    {
     "name": "stdout",
     "output_type": "stream",
     "text": [
      "Mean: 112.30059990516075\n",
      "Standard Deviation: 85.98406628052774\n"
     ]
    }
   ],
   "source": [
    "# Calculating the mean and standard deviation of the data set\n",
    "import os\n",
    "import numpy as np\n",
    "import cv2\n",
    "\n",
    "def load_images_from_folder(folder, target_size=(256, 256)):\n",
    "    images = []\n",
    "    for filename in os.listdir(folder):\n",
    "        img = cv2.imread(os.path.join(folder, filename), cv2.IMREAD_GRAYSCALE)\n",
    "        if img is not None:\n",
    "            img = cv2.resize(img, target_size)\n",
    "            images.append(img)\n",
    "    return images\n",
    "\n",
    "def compute_mean_std(images):\n",
    "    stacked_images = np.stack(images, axis=0)\n",
    "    mean = np.mean(stacked_images)\n",
    "    std = np.std(stacked_images)\n",
    "    return mean, std\n",
    "\n",
    "folder_path = 'C:\\\\Users\\\\Khomp\\Desktop\\\\Projetos SBC 2025\\\\ResNet50\\\\Health-projects\\\\Chest_Xray-classification\\\\checandoMEDIAeSD'\n",
    "images = load_images_from_folder(folder_path)\n",
    "mean, std = compute_mean_std(images)\n",
    "\n",
    "print(f'Mean: {mean}')\n",
    "print(f'Standard Deviation: {std}')\n"
   ]
  },
  {
   "cell_type": "code",
   "execution_count": 13,
   "id": "a8473b06-9084-4178-bbc3-17e0ffc167f2",
   "metadata": {},
   "outputs": [],
   "source": [
    "# Defining data transformations for grayscale images with the computed mean and std\n",
    "data_transforms = {\n",
    "    'train': transforms.Compose([\n",
    "        transforms.Grayscale(num_output_channels=1),  # Convert to grayscale\n",
    "        transforms.RandomResizedCrop(224),\n",
    "        transforms.RandomHorizontalFlip(),\n",
    "        transforms.ToTensor(),\n",
    "        transforms.Normalize([112.3006 / 255], [85.9841 / 255])  # Normalize using the computed mean and std\n",
    "    ]),\n",
    "    'val': transforms.Compose([\n",
    "        transforms.Grayscale(num_output_channels=1),  # Convert to grayscale\n",
    "        transforms.Resize(256),\n",
    "        transforms.CenterCrop(224),\n",
    "        transforms.ToTensor(),\n",
    "        transforms.Normalize([112.3006 / 255], [85.9841 / 255])  # Normalize using the computed mean and std\n",
    "    ]),\n",
    "}"
   ]
  },
  {
   "cell_type": "code",
   "execution_count": 15,
   "id": "c784e3b9-6557-4bb6-aed5-bbeb2b358d6e",
   "metadata": {},
   "outputs": [],
   "source": [
    "# Defining the data directory\n",
    "data_dir = 'dataset'\n",
    "\n",
    "# Creating data loaders\n",
    "image_datasets = {x: datasets.ImageFolder(os.path.join(data_dir, x), data_transforms[x]) for x in ['train', 'val']}\n",
    "#image_datasets"
   ]
  },
  {
   "cell_type": "code",
   "execution_count": 16,
   "id": "989eb9de-7e22-4e9f-8375-3e8ae69f9c9d",
   "metadata": {},
   "outputs": [
    {
     "name": "stdout",
     "output_type": "stream",
     "text": [
      "{'train': 91, 'val': 13}\n"
     ]
    },
    {
     "data": {
      "text/plain": [
       "['healthy', 'tuberculosis']"
      ]
     },
     "execution_count": 16,
     "metadata": {},
     "output_type": "execute_result"
    }
   ],
   "source": [
    "dataloaders = {x: torch.utils.data.DataLoader(image_datasets[x], batch_size=4, shuffle=True, num_workers=4) for x in ['train', 'val']}\n",
    "dataset_sizes = {x: len(image_datasets[x]) for x in ['train', 'val']}\n",
    "print(dataset_sizes)\n",
    "\n",
    "class_names = image_datasets['train'].classes\n",
    "class_names"
   ]
  },
  {
   "cell_type": "code",
   "execution_count": 20,
   "id": "d0c1f40f-b5b6-4e8e-97b7-adff47a48d7a",
   "metadata": {},
   "outputs": [],
   "source": [
    "# Load the pre-trained ResNet-50 model\n",
    "model = models.resnet50(pretrained=True)"
   ]
  },
  {
   "cell_type": "code",
   "execution_count": 21,
   "id": "9297e580-71b2-4860-9e5e-6d4018ca692c",
   "metadata": {},
   "outputs": [],
   "source": [
    "# Freeze all layers except the final classification layer\n",
    "for name, param in model.named_parameters():\n",
    "    if \"fc\" in name:  # Unfreeze the final classification layer\n",
    "        param.requires_grad = True\n",
    "    else:\n",
    "        param.requires_grad = False"
   ]
  },
  {
   "cell_type": "code",
   "execution_count": 22,
   "id": "d9f0e00b-7b99-4cf1-b6e1-f5426c4cacfa",
   "metadata": {},
   "outputs": [],
   "source": [
    "# Define the loss function and optimizer\n",
    "criterion = nn.CrossEntropyLoss()\n",
    "optimizer = optim.SGD(model.parameters(), lr=0.001, momentum=0.9)  # Use all parameters"
   ]
  },
  {
   "cell_type": "code",
   "execution_count": 23,
   "id": "59f76342-6a9b-4b66-89c9-ff4329981eed",
   "metadata": {},
   "outputs": [],
   "source": [
    "# Move the model to the GPU if available\n",
    "device = torch.device(\"cuda:0\" if torch.cuda.is_available() else \"cpu\")\n",
    "model = model.to(device)"
   ]
  },
  {
   "cell_type": "code",
   "execution_count": 24,
   "id": "ef5d8470-eb15-420b-96e6-24092825b62c",
   "metadata": {},
   "outputs": [
    {
     "name": "stdout",
     "output_type": "stream",
     "text": [
      "train Loss: 2.9721 Acc: 0.4176\n",
      "val Loss: 1.4242 Acc: 0.4615\n",
      "train Loss: 0.8150 Acc: 0.5604\n",
      "val Loss: 1.0390 Acc: 0.5385\n",
      "Training complete!\n"
     ]
    }
   ],
   "source": [
    "# Training loop\n",
    "num_epochs = 2\n",
    "for epoch in range(num_epochs):\n",
    "    for phase in ['train', 'val']:\n",
    "        if phase == 'train':\n",
    "            model.train()\n",
    "        else:\n",
    "            model.eval()\n",
    "\n",
    "        running_loss = 0.0\n",
    "        running_corrects = 0\n",
    "\n",
    "        for inputs, labels in dataloaders[phase]:\n",
    "            inputs = inputs.to(device)\n",
    "            labels = labels.to(device)\n",
    "\n",
    "            # Convert grayscale images to RGB\n",
    "            if inputs.shape[1] == 1:\n",
    "                inputs = inputs.repeat(1, 3, 1, 1)\n",
    "\n",
    "            optimizer.zero_grad()\n",
    "\n",
    "            with torch.set_grad_enabled(phase == 'train'):\n",
    "                outputs = model(inputs)\n",
    "                _, preds = torch.max(outputs, 1)\n",
    "                loss = criterion(outputs, labels)\n",
    "\n",
    "                if phase == 'train':\n",
    "                    loss.backward()\n",
    "                    optimizer.step()\n",
    "\n",
    "            running_loss += loss.item() * inputs.size(0)\n",
    "            running_corrects += torch.sum(preds == labels.data)\n",
    "\n",
    "        epoch_loss = running_loss / dataset_sizes[phase]\n",
    "        epoch_acc = running_corrects.double() / dataset_sizes[phase]\n",
    "\n",
    "        print(f'{phase} Loss: {epoch_loss:.4f} Acc: {epoch_acc:.4f}')\n",
    "\n",
    "print(\"Training complete!\")"
   ]
  },
  {
   "cell_type": "code",
   "execution_count": 25,
   "id": "b50d6e43-e626-49fd-90ab-bd962b9f48b2",
   "metadata": {},
   "outputs": [
    {
     "name": "stdout",
     "output_type": "stream",
     "text": [
      "train Accuracy: 0.5604\n",
      "train Precision: 0.5555\n",
      "train Recall: 0.5604 \n",
      "\n",
      "val Accuracy: 0.5385\n",
      "val Precision: 0.3590\n",
      "val Recall: 0.5385 \n",
      "\n"
     ]
    }
   ],
   "source": [
    "# =========================== Evaluation =========================\n",
    "\n",
    "from sklearn.metrics import precision_score, recall_score, accuracy_score\n",
    "import numpy as np\n",
    "import torch\n",
    "\n",
    "def evaluate_model(model, dataloaders, dataset_sizes, device):\n",
    "    model.eval()\n",
    "\n",
    "    for phase in ['train', 'val']:\n",
    "        all_preds = []\n",
    "        all_labels = []\n",
    "\n",
    "        for inputs, labels in dataloaders[phase]:\n",
    "            inputs = inputs.to(device)\n",
    "            labels = labels.to(device)\n",
    "\n",
    "            # Converting grayscale images to RGB\n",
    "            if inputs.shape[1] == 1:\n",
    "                inputs = inputs.repeat(1, 3, 1, 1)\n",
    "\n",
    "            with torch.set_grad_enabled(False):\n",
    "                outputs = model(inputs)\n",
    "                _, preds = torch.max(outputs, 1)\n",
    "\n",
    "            all_preds.extend(preds.cpu().numpy())\n",
    "            all_labels.extend(labels.cpu().numpy())\n",
    "\n",
    "        # Converting lists to NumPy arrays\n",
    "        all_preds = np.array(all_preds)\n",
    "        all_labels = np.array(all_labels)\n",
    "\n",
    "        accuracy = accuracy_score(all_labels, all_preds)\n",
    "        precision = precision_score(all_labels, all_preds, average='weighted')\n",
    "        recall = recall_score(all_labels, all_preds, average='weighted')\n",
    "\n",
    "        print(f'{phase} Accuracy: {accuracy:.4f}')\n",
    "        print(f'{phase} Precision: {precision:.4f}')\n",
    "        print(f'{phase} Recall: {recall:.4f} \\n')\n",
    "        \n",
    "\n",
    "# Calling the function after training the model\n",
    "evaluate_model(model, dataloaders, dataset_sizes, device)"
   ]
  },
  {
   "cell_type": "code",
   "execution_count": null,
   "id": "7f5d15a0-a031-4767-bd71-08677052e709",
   "metadata": {},
   "outputs": [],
   "source": []
  }
 ],
 "metadata": {
  "kernelspec": {
   "display_name": "Python 3 (ipykernel)",
   "language": "python",
   "name": "python3"
  },
  "language_info": {
   "codemirror_mode": {
    "name": "ipython",
    "version": 3
   },
   "file_extension": ".py",
   "mimetype": "text/x-python",
   "name": "python",
   "nbconvert_exporter": "python",
   "pygments_lexer": "ipython3",
   "version": "3.11.7"
  }
 },
 "nbformat": 4,
 "nbformat_minor": 5
}
